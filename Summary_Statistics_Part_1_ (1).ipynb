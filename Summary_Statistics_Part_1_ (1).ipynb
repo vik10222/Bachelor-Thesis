{
  "nbformat": 4,
  "nbformat_minor": 0,
  "metadata": {
    "colab": {
      "provenance": [],
      "toc_visible": true
    },
    "kernelspec": {
      "name": "python3",
      "display_name": "Python 3"
    },
    "language_info": {
      "name": "python"
    }
  },
  "cells": [
    {
      "cell_type": "markdown",
      "source": [
        "Founders and Financials: Machine Learning Algorithms in Venture Capital by Viktor Lado Naess and Emrik Stål\n",
        "\n"
      ],
      "metadata": {
        "id": "vxTdDbQIKXmH"
      }
    },
    {
      "cell_type": "markdown",
      "source": [
        "# excluding gender\n"
      ],
      "metadata": {
        "id": "NJU-3w0M2Y7Z"
      }
    },
    {
      "cell_type": "code",
      "execution_count": null,
      "metadata": {
        "id": "W1wVmke_04kH"
      },
      "outputs": [],
      "source": [
        "# importing all data\n",
        "from google.colab import auth\n",
        "auth.authenticate_user()\n",
        "\n",
        "import gspread\n",
        "from google.auth import default\n",
        "creds, _ = default()\n",
        "\n",
        "gc = gspread.authorize(creds)\n",
        "\n",
        "spreadsheet = gc.open('final data')\n",
        "\n",
        "worksheet = spreadsheet.worksheet('Sheet1')\n",
        "\n",
        "\n",
        "\n",
        "data = worksheet.get_all_values()\n",
        "\n",
        "import pandas as pd\n",
        "df = pd.DataFrame(data[1:], columns=data[0])\n",
        "import numpy as np\n",
        "\n",
        "\n",
        "#making sure all names and datatypes match\n",
        "df.loc[:,'More than one round'] = df['More than one round'].astype(int)\n",
        "df['Share female founders'] = df['Share female founders'].replace('', np.nan)\n",
        "df.loc[:,'Share female founders'] = df['Share female founders'].astype(float)\n",
        "df.loc[:,'Distance from Stockholm'] = df['Distance from Stockholm'].astype(float)\n",
        "df.loc[:,'Serial Founder'] = df['Serial Founder'].astype(int)\n",
        "df.loc[:,'Branch Sector'] = df['Branch Sector'].astype(int)\n",
        "df = df.rename(columns={'Final_Second_Round_Year': 'Final Second Round Year'})\n",
        "df.loc[:,'Final Second Round Year'] = df['Final Second Round Year'].astype(int)\n",
        "df = df.rename(columns={'Founded_on_Year': 'Founded on Year'})\n",
        "df.loc[:,'Founded on Year'] = df['Founded on Year'].astype(int)\n",
        "df.loc[:,'Quick Ratio'] = df['Quick Ratio'].astype(float)\n",
        "df.loc[:,'Return on Equity'] = df['Return on Equity'].astype(float)\n",
        "\n",
        "df.loc[:,'Net_sales'] = df['Net_sales'].astype(float)\n",
        "df = df.rename(columns={'Net_sales': 'Net Sales'})\n",
        "\n",
        "df.loc[:,'Net Sales Ratio'] = df['Net Sales Ratio'].astype(float)\n",
        "df.loc[:,'avg'] = df['avg'].astype(float)\n",
        "df.loc[:,'Cluster'] = df['Cluster'].astype(float)\n",
        "\n",
        "random_seed =8"
      ]
    },
    {
      "cell_type": "code",
      "source": [
        "df"
      ],
      "metadata": {
        "id": "cn31gSdfh4YD"
      },
      "execution_count": null,
      "outputs": []
    },
    {
      "cell_type": "code",
      "source": [
        "#dropping outliers larger than 3 standard deviations away\n",
        "from scipy import stats\n",
        "\n",
        "columns = ['Return on Equity', 'Quick Ratio', 'Net Sales Ratio']\n",
        "\n",
        "outlier_indices = set()\n",
        "\n",
        "for col in columns:\n",
        "    z_scores = stats.zscore(df[col])\n",
        "\n",
        "    outliers = df[abs(z_scores) > 3].index\n",
        "\n",
        "    outlier_indices.update(outliers)\n",
        "\n",
        "df = df.drop(index=outlier_indices)\n",
        "\n",
        "df"
      ],
      "metadata": {
        "id": "2EOAUI3L2Q26"
      },
      "execution_count": null,
      "outputs": []
    },
    {
      "cell_type": "code",
      "source": [
        "df.describe()\n"
      ],
      "metadata": {
        "id": "Yyc6NIFi2Ub7"
      },
      "execution_count": null,
      "outputs": []
    },
    {
      "cell_type": "code",
      "source": [
        "df.dtypes"
      ],
      "metadata": {
        "id": "_LjiIcKe7lCb"
      },
      "execution_count": null,
      "outputs": []
    },
    {
      "cell_type": "code",
      "source": [
        "#Making a more specific description\n",
        "import pandas as pd\n",
        "\n",
        "non_numerical_columns = ['Name', 'Location']\n",
        "\n",
        "summary_df = pd.DataFrame(columns=['Column', 'Mode', 'Median', 'Mean', 'Q1', 'Q2', 'Q3', 'Q4'])\n",
        "\n",
        "for column in df.columns:\n",
        "    if column not in non_numerical_columns:\n",
        "\n",
        "        mode = df[column].mode()[0]\n",
        "        median = df[column].median()\n",
        "        mean = df[column].mean()\n",
        "        std=df[column].std()\n",
        "        q1 = df[column].quantile(0.25)\n",
        "        q2 = df[column].quantile(0.50)\n",
        "        q3 = df[column].quantile(0.75)\n",
        "        q4 = df[column].quantile(1.00)\n",
        "\n",
        "\n",
        "        summary_df = summary_df.append({\n",
        "            'Column': column,\n",
        "            'Mode': mode,\n",
        "            'Median': median,\n",
        "            'Mean': mean,\n",
        "            'Stan dev.': std,\n",
        "            'Q1': q1,\n",
        "            'Q2': q2,\n",
        "            'Q3': q3,\n",
        "            'Q4': q4\n",
        "        }, ignore_index=True)\n",
        "\n",
        "\n",
        "summary_df\n"
      ],
      "metadata": {
        "id": "gC-kg-a363DW"
      },
      "execution_count": null,
      "outputs": []
    },
    {
      "cell_type": "code",
      "source": [
        "#Getting Different city counts\n",
        "import pandas as pd\n",
        "\n",
        "categorical_column = 'Location'\n",
        "\n",
        "mode_value = df[categorical_column].mode()[0]\n",
        "\n",
        "\n",
        "value_counts = df[categorical_column].value_counts()\n",
        "\n",
        "\n",
        "total_counts = df[categorical_column].count()\n",
        "percentages = (value_counts / total_counts) * 100\n",
        "\n",
        "\n",
        "categorical_counts_df = pd.DataFrame({'Counts': value_counts, 'Percentages': percentages})\n",
        "\n",
        "\n",
        "categorical_counts_df = categorical_counts_df.transpose()\n",
        "\n",
        "\n",
        "categorical_counts_df.loc['Mode'] = mode_value\n",
        "\n",
        "\n",
        "categorical_counts_df\n"
      ],
      "metadata": {
        "id": "a6dzcW2l7DQn"
      },
      "execution_count": null,
      "outputs": []
    },
    {
      "cell_type": "code",
      "source": [
        "sum_of_counts = value_counts.sum()\n",
        "sum_of_counts"
      ],
      "metadata": {
        "id": "DfeDmm2GqyPB"
      },
      "execution_count": null,
      "outputs": []
    },
    {
      "cell_type": "code",
      "source": [
        "df"
      ],
      "metadata": {
        "id": "YEZQahl6q7-7"
      },
      "execution_count": null,
      "outputs": []
    },
    {
      "cell_type": "code",
      "source": [
        "#log scale graph of count of locations\n",
        "import matplotlib.pyplot as plt\n",
        "import seaborn as sns\n",
        "import numpy as np\n",
        "\n",
        "plt.figure(figsize=(15,5))\n",
        "city_counts = df['Location'].value_counts().reset_index()\n",
        "city_counts.columns = ['Location', 'count']\n",
        "\n",
        "\n",
        "city_counts['log_count'] = np.log1p(city_counts['count'])\n",
        "\n",
        "sns.barplot(x='Location', y='log_count', data=city_counts, color='grey')\n",
        "plt.ylabel('Log(Count)')\n",
        "plt.title('Log Counts of Cities')\n",
        "plt.xticks(rotation=90)\n",
        "plt.show()"
      ],
      "metadata": {
        "id": "l_abZVrtHUQc"
      },
      "execution_count": null,
      "outputs": []
    },
    {
      "cell_type": "code",
      "source": [
        "##log scale graph of count of locations but where cities with 1 count are aggregated in an other set.\n",
        "import matplotlib.pyplot as plt\n",
        "import seaborn as sns\n",
        "import numpy as np\n",
        "\n",
        "city_counts = df['Location'].value_counts().reset_index()\n",
        "city_counts.columns = ['Location', 'count']\n",
        "\n",
        "city_counts['Location'] = city_counts.apply(\n",
        "    lambda row: 'Other' if row['count'] == 1 else row['Location'], axis=1)\n",
        "\n",
        "\n",
        "city_counts = city_counts.groupby('Location').sum().reset_index()\n",
        "\n",
        "\n",
        "city_counts['log_count'] = np.log1p(city_counts['count'])\n",
        "\n",
        "plt.figure(figsize=(15,5))\n",
        "sns.barplot(x='Location', y='log_count', data=city_counts, color='grey')\n",
        "plt.ylabel('Log(Count)')\n",
        "plt.title('Log Counts of Cities (with \"Other\" Category)')\n",
        "plt.xticks(rotation=90)\n",
        "plt.show()\n"
      ],
      "metadata": {
        "id": "fcJW6uU_Lau-"
      },
      "execution_count": null,
      "outputs": []
    },
    {
      "cell_type": "markdown",
      "source": [
        "##Branch"
      ],
      "metadata": {
        "id": "YbuHS8gWM9Id"
      }
    },
    {
      "cell_type": "code",
      "source": [
        "#count of branch sector\n",
        "import pandas as pd\n",
        "\n",
        "categorical_column = 'Branch Sector'\n",
        "\n",
        "mode_value = df[categorical_column].mode()[0]\n",
        "\n",
        "\n",
        "value_counts = df[categorical_column].value_counts()\n",
        "\n",
        "\n",
        "total_counts = df[categorical_column].count()\n",
        "percentages = (value_counts / total_counts) * 100\n",
        "\n",
        "\n",
        "categorical_counts_df = pd.DataFrame({'Counts': value_counts, 'Percentages': percentages})\n",
        "\n",
        "\n",
        "categorical_counts_df = categorical_counts_df.transpose()\n",
        "\n",
        "\n",
        "categorical_counts_df.loc['Mode'] = mode_value\n",
        "\n",
        "\n",
        "categorical_counts_df"
      ],
      "metadata": {
        "id": "IkgJSikLMAK2"
      },
      "execution_count": null,
      "outputs": []
    },
    {
      "cell_type": "code",
      "source": [
        "#log scale graph of count of branches\n",
        "import matplotlib.pyplot as plt\n",
        "import seaborn as sns\n",
        "import numpy as np\n",
        "\n",
        "plt.figure(figsize=(15,5))\n",
        "city_counts = df['Branch Sector'].value_counts().reset_index()\n",
        "city_counts.columns = ['Branch Sector', 'count']\n",
        "\n",
        "\n",
        "city_counts['log_count'] = np.log1p(city_counts['count'])\n",
        "\n",
        "sns.barplot(x='Branch Sector', y='log_count', data=city_counts, color='grey')\n",
        "plt.ylabel('Log(Count)')\n",
        "plt.title('Log Counts of Branch Sector')\n",
        "plt.xticks(rotation=90)\n",
        "plt.show()"
      ],
      "metadata": {
        "id": "dM_GCHk-NBMu"
      },
      "execution_count": null,
      "outputs": []
    },
    {
      "cell_type": "code",
      "source": [
        "#Mean of each branch sector\n",
        "import matplotlib.pyplot as plt\n",
        "import seaborn as sns\n",
        "\n",
        "columns_to_plot = ['Net Sales']\n",
        "\n",
        "for col in columns_to_plot:\n",
        "    if col in df.columns:\n",
        "        sector_means = df.groupby('Branch Sector')[col].mean().reset_index()\n",
        "\n",
        "        plt.figure(figsize=(15,5))\n",
        "        sns.barplot(x='Branch Sector', y=col, data=sector_means, palette=['grey'])\n",
        "        plt.ylabel(col)\n",
        "        plt.title(f'Mean of {col} by Branch Sector')\n",
        "        plt.xticks(rotation=90)\n",
        "        plt.show()\n"
      ],
      "metadata": {
        "id": "ov1EkIL2NLHQ"
      },
      "execution_count": null,
      "outputs": []
    },
    {
      "cell_type": "code",
      "source": [
        "#log scale graph of average of net sales.\n",
        "import matplotlib.pyplot as plt\n",
        "import seaborn as sns\n",
        "df['log_avg'] = np.log1p(df['avg'])\n",
        "columns_to_plot = ['log_avg']\n",
        "\n",
        "for col in columns_to_plot:\n",
        "    if col in df.columns:\n",
        "        sector_means = df.groupby('Branch Sector')[col].mean().reset_index()\n",
        "\n",
        "        plt.figure(figsize=(15,5))\n",
        "        sns.barplot(x='Branch Sector', y='log_avg', data=sector_means, palette=['grey'])  # Setting the color to black\n",
        "        plt.ylabel(col)\n",
        "        plt.title(f'Log of Average Net Sales by Branch Sector')\n",
        "        plt.xticks(rotation=90)\n",
        "        plt.show()"
      ],
      "metadata": {
        "id": "IM_sZ-HPPV7F"
      },
      "execution_count": null,
      "outputs": []
    },
    {
      "cell_type": "code",
      "source": [
        "# Average net sales per branch sector per Final second round year\n",
        "import matplotlib.pyplot as plt\n",
        "import seaborn as sns\n",
        "\n",
        "bya = df[['Branch Sector','Final Second Round Year','avg']]\n",
        "\n",
        "\n",
        "# Creating the plot\n",
        "plt.figure(figsize=(15,7))\n",
        "sns.barplot(x='Branch Sector', y='avg', hue='Final Second Round Year', data=bya)\n",
        "plt.title('Average Value by Branch Sector and Final Second Round Year')\n",
        "plt.xticks(rotation=90)\n",
        "plt.ylabel('Average Value')\n",
        "plt.xlabel('Branch Sector')\n",
        "plt.legend(title='Final Second Round Year', bbox_to_anchor=(1.05, 1), loc='upper left')\n",
        "plt.tight_layout()\n",
        "plt.show()\n"
      ],
      "metadata": {
        "id": "yxlxEepAN1LP"
      },
      "execution_count": null,
      "outputs": []
    },
    {
      "cell_type": "code",
      "source": [
        "# Logarithmic scale of previous graph\n",
        "import matplotlib.pyplot as plt\n",
        "import seaborn as sns\n",
        "import numpy as np\n",
        "\n",
        "\n",
        "bya['log_avg'] = np.log1p(bya['avg'])\n",
        "\n",
        "plt.figure(figsize=(15,7))\n",
        "sns.barplot(x='Branch Sector', y='log_avg', hue='Final Second Round Year', data=bya)\n",
        "plt.title('Logarithmic Average Net sales by Branch Sector and Final Second Round Year')\n",
        "plt.xticks(rotation=90)\n",
        "plt.ylabel('Log(Average Net Sales)')\n",
        "plt.xlabel('Branch Sector')\n",
        "plt.legend(title='Final Second Round Year', bbox_to_anchor=(1.05, 1), loc='upper left')\n",
        "plt.tight_layout()\n",
        "plt.show()"
      ],
      "metadata": {
        "id": "-KU3cZNoN2NM"
      },
      "execution_count": null,
      "outputs": []
    },
    {
      "cell_type": "code",
      "source": [
        "#average net sales per branch peer year\n",
        "\n",
        "pivot_table = bya.pivot_table(index='Branch Sector',\n",
        "                              columns='Final Second Round Year',\n",
        "                              values='avg',\n",
        "                              aggfunc='mean')\n",
        "\n",
        "pivot_table\n"
      ],
      "metadata": {
        "id": "NWQpGfqBZuPI"
      },
      "execution_count": null,
      "outputs": []
    },
    {
      "cell_type": "code",
      "source": [
        "#counts of success and failue\n",
        "import pandas as pd\n",
        "\n",
        "categorical_column = 'More than one round'\n",
        "\n",
        "mode_value = df[categorical_column].mode()[0]\n",
        "\n",
        "\n",
        "value_counts = df[categorical_column].value_counts()\n",
        "\n",
        "\n",
        "total_counts = df[categorical_column].count()\n",
        "percentages = (value_counts / total_counts) * 100\n",
        "\n",
        "\n",
        "categorical_counts_df = pd.DataFrame({'Counts': value_counts, 'Percentages': percentages})\n",
        "\n",
        "\n",
        "categorical_counts_df = categorical_counts_df.transpose()\n",
        "\n",
        "\n",
        "categorical_counts_df.loc['Mode'] = mode_value\n",
        "\n",
        "\n",
        "categorical_counts_df"
      ],
      "metadata": {
        "id": "mDt_bU5gaLtL"
      },
      "execution_count": null,
      "outputs": []
    },
    {
      "cell_type": "code",
      "source": [
        "import pandas as pd\n",
        "\n",
        "categorical_column = 'Founded on Year'\n",
        "\n",
        "mode_value = df[categorical_column].mode()[0]\n",
        "\n",
        "\n",
        "value_counts = df[categorical_column].value_counts()\n",
        "\n",
        "\n",
        "total_counts = df[categorical_column].count()\n",
        "percentages = (value_counts / total_counts) * 100\n",
        "\n",
        "\n",
        "categorical_counts_df = pd.DataFrame({'Counts': value_counts, 'Percentages': percentages})\n",
        "\n",
        "\n",
        "categorical_counts_df = categorical_counts_df.transpose()\n",
        "\n",
        "\n",
        "categorical_counts_df.loc['Mode'] = mode_value\n",
        "\n",
        "\n",
        "categorical_counts_df"
      ],
      "metadata": {
        "id": "eCyCSy0MajFC"
      },
      "execution_count": null,
      "outputs": []
    },
    {
      "cell_type": "markdown",
      "source": [
        "##final second round"
      ],
      "metadata": {
        "id": "epJ6cmGWeyon"
      }
    },
    {
      "cell_type": "code",
      "source": [
        "#success counts per year\n",
        "import pandas as pd\n",
        "\n",
        "categorical_column = 'Final Second Round Year'\n",
        "\n",
        "mode_value = df[categorical_column].mode()[0]\n",
        "\n",
        "\n",
        "value_counts = df[categorical_column].value_counts()\n",
        "\n",
        "\n",
        "total_counts = df[categorical_column].count()\n",
        "percentages = (value_counts / total_counts) * 100\n",
        "\n",
        "\n",
        "categorical_counts_df = pd.DataFrame({'Counts': value_counts, 'Percentages': percentages})\n",
        "\n",
        "\n",
        "categorical_counts_df = categorical_counts_df.transpose()\n",
        "\n",
        "\n",
        "categorical_counts_df.loc['Mode'] = mode_value\n",
        "\n",
        "\n",
        "categorical_counts_df"
      ],
      "metadata": {
        "id": "aGEGzEk4aw5L"
      },
      "execution_count": null,
      "outputs": []
    },
    {
      "cell_type": "markdown",
      "source": [
        "#including gender\n"
      ],
      "metadata": {
        "id": "S5r9d49ge7Jl"
      }
    },
    {
      "cell_type": "markdown",
      "source": [
        "This code has the same implications as the above coude so only comments on new code will be supllied"
      ],
      "metadata": {
        "id": "NF6wfEbFhupM"
      }
    },
    {
      "cell_type": "code",
      "source": [
        "#Viewing rows with no share of female founders data\n",
        "rows_with_na = df[df['Share female founders'].isna()]\n",
        "rows_with_na"
      ],
      "metadata": {
        "id": "HZd6mykCgJNs"
      },
      "execution_count": null,
      "outputs": []
    },
    {
      "cell_type": "code",
      "execution_count": null,
      "metadata": {
        "id": "JXm6KALre7Jl"
      },
      "outputs": [],
      "source": [
        "#removing rows with no share of female founders data\n",
        "df = df.dropna(subset=['Share female founders'])\n",
        "df"
      ]
    },
    {
      "cell_type": "markdown",
      "source": [
        " If one filters with the data with and without the gender filtration the same outliers and number fo outliers are removed so no need to conduct further filtering.\n"
      ],
      "metadata": {
        "id": "gMGmXiaA2Veu"
      }
    },
    {
      "cell_type": "code",
      "source": [],
      "metadata": {
        "id": "r2smLr51e7Jl"
      },
      "execution_count": null,
      "outputs": []
    },
    {
      "cell_type": "code",
      "source": [
        "df.describe()\n"
      ],
      "metadata": {
        "id": "8ZITABEye7Jl"
      },
      "execution_count": null,
      "outputs": []
    },
    {
      "cell_type": "code",
      "source": [
        "df.dtypes"
      ],
      "metadata": {
        "id": "-t045vHQe7Jl"
      },
      "execution_count": null,
      "outputs": []
    },
    {
      "cell_type": "code",
      "source": [
        "import pandas as pd\n",
        "\n",
        "non_numerical_columns = ['x', 'Name', 'Location']\n",
        "\n",
        "summary_df = pd.DataFrame(columns=['Column', 'Mode', 'Median', 'Mean', 'Q1', 'Q2', 'Q3', 'Q4'])\n",
        "\n",
        "for column in df.columns:\n",
        "    if column not in non_numerical_columns:\n",
        "\n",
        "        mode = df[column].mode()[0]\n",
        "        median = df[column].median()\n",
        "        mean = df[column].mean()\n",
        "        std=df[column].std()\n",
        "        q1 = df[column].quantile(0.25)\n",
        "        q2 = df[column].quantile(0.50)\n",
        "        q3 = df[column].quantile(0.75)\n",
        "        q4 = df[column].quantile(1.00)\n",
        "\n",
        "\n",
        "        summary_df = summary_df.append({\n",
        "            'Column': column,\n",
        "            'Mode': mode,\n",
        "            'Median': median,\n",
        "            'Mean': mean,\n",
        "            'Stan dev.': std,\n",
        "            'Q1': q1,\n",
        "            'Q2': q2,\n",
        "            'Q3': q3,\n",
        "            'Q4': q4\n",
        "        }, ignore_index=True)\n",
        "\n",
        "\n",
        "summary_df\n"
      ],
      "metadata": {
        "id": "86PfSi_Je7Jm"
      },
      "execution_count": null,
      "outputs": []
    },
    {
      "cell_type": "code",
      "source": [
        "import pandas as pd\n",
        "\n",
        "categorical_column = 'Location'\n",
        "\n",
        "mode_value = df[categorical_column].mode()[0]\n",
        "\n",
        "\n",
        "value_counts = df[categorical_column].value_counts()\n",
        "\n",
        "\n",
        "total_counts = df[categorical_column].count()\n",
        "percentages = (value_counts / total_counts) * 100\n",
        "\n",
        "\n",
        "categorical_counts_df = pd.DataFrame({'Counts': value_counts, 'Percentages': percentages})\n",
        "\n",
        "\n",
        "categorical_counts_df = categorical_counts_df.transpose()\n",
        "\n",
        "\n",
        "categorical_counts_df.loc['Mode'] = mode_value\n",
        "\n",
        "\n",
        "categorical_counts_df\n"
      ],
      "metadata": {
        "id": "53gCw-Yte7Jm"
      },
      "execution_count": null,
      "outputs": []
    },
    {
      "cell_type": "code",
      "source": [
        "import matplotlib.pyplot as plt\n",
        "import seaborn as sns\n",
        "import numpy as np\n",
        "\n",
        "plt.figure(figsize=(15,5))\n",
        "city_counts = df['Location'].value_counts().reset_index()\n",
        "city_counts.columns = ['Location', 'count']\n",
        "\n",
        "\n",
        "city_counts['log_count'] = np.log1p(city_counts['count'])\n",
        "\n",
        "sns.barplot(x='Location', y='log_count', data=city_counts, color='grey')\n",
        "plt.ylabel('Log(Count)')\n",
        "plt.title('Log Counts of Cities')\n",
        "plt.xticks(rotation=90)\n",
        "plt.show()"
      ],
      "metadata": {
        "id": "8Pc9Vbwme7Jm"
      },
      "execution_count": null,
      "outputs": []
    },
    {
      "cell_type": "code",
      "source": [
        "import matplotlib.pyplot as plt\n",
        "import seaborn as sns\n",
        "import numpy as np\n",
        "\n",
        "# Assuming df is your DataFrame\n",
        "# df = pd.read_csv('your_dataframe.csv')  # Replace with your data loading code\n",
        "\n",
        "# Count the occurrences of each location\n",
        "city_counts = df['Location'].value_counts().reset_index()\n",
        "city_counts.columns = ['Location', 'count']\n",
        "\n",
        "# Aggregate locations with a count of 1 into 'Other'\n",
        "city_counts['Location'] = city_counts.apply(\n",
        "    lambda row: 'Other' if row['count'] == 1 else row['Location'], axis=1)\n",
        "\n",
        "# Recalculate the counts (including the new 'Other' category)\n",
        "city_counts = city_counts.groupby('Location').sum().reset_index()\n",
        "\n",
        "# Calculating the log of the count\n",
        "city_counts['log_count'] = np.log1p(city_counts['count'])\n",
        "\n",
        "# Plotting\n",
        "plt.figure(figsize=(15,5))\n",
        "sns.barplot(x='Location', y='log_count', data=city_counts, color='grey')\n",
        "plt.ylabel('Log(Count)')\n",
        "plt.title('Log Counts of Cities (with \"Other\" Category)')\n",
        "plt.xticks(rotation=90)\n",
        "plt.show()\n"
      ],
      "metadata": {
        "id": "TiIzgk2ze7Jm"
      },
      "execution_count": null,
      "outputs": []
    },
    {
      "cell_type": "markdown",
      "source": [
        "##Branch"
      ],
      "metadata": {
        "id": "Kww4RIbde7Jm"
      }
    },
    {
      "cell_type": "code",
      "source": [
        "import pandas as pd\n",
        "\n",
        "categorical_column = 'Branch Sector'\n",
        "\n",
        "mode_value = df[categorical_column].mode()[0]\n",
        "\n",
        "\n",
        "value_counts = df[categorical_column].value_counts()\n",
        "\n",
        "\n",
        "total_counts = df[categorical_column].count()\n",
        "percentages = (value_counts / total_counts) * 100\n",
        "\n",
        "\n",
        "categorical_counts_df = pd.DataFrame({'Counts': value_counts, 'Percentages': percentages})\n",
        "\n",
        "\n",
        "categorical_counts_df = categorical_counts_df.transpose()\n",
        "\n",
        "\n",
        "categorical_counts_df.loc['Mode'] = mode_value\n",
        "\n",
        "\n",
        "categorical_counts_df"
      ],
      "metadata": {
        "id": "MPzIXGfce7Jm"
      },
      "execution_count": null,
      "outputs": []
    },
    {
      "cell_type": "code",
      "source": [
        "import matplotlib.pyplot as plt\n",
        "import seaborn as sns\n",
        "import numpy as np\n",
        "\n",
        "plt.figure(figsize=(15,5))\n",
        "city_counts = df['Branch Sector'].value_counts().reset_index()\n",
        "city_counts.columns = ['Branch Sector', 'count']\n",
        "\n",
        "\n",
        "city_counts['log_count'] = np.log1p(city_counts['count'])\n",
        "\n",
        "sns.barplot(x='Branch Sector', y='log_count', data=city_counts, color='grey')\n",
        "plt.ylabel('Log(Count)')\n",
        "plt.title('Log Counts of Branch Sector')\n",
        "plt.xticks(rotation=90)\n",
        "plt.show()"
      ],
      "metadata": {
        "id": "X4wDocDae7Jm"
      },
      "execution_count": null,
      "outputs": []
    },
    {
      "cell_type": "code",
      "source": [
        "import matplotlib.pyplot as plt\n",
        "import seaborn as sns\n",
        "\n",
        "columns_to_plot = ['Net Sales']\n",
        "\n",
        "for col in columns_to_plot:\n",
        "    if col in df.columns:\n",
        "        sector_means = df.groupby('Branch Sector')[col].mean().reset_index()\n",
        "\n",
        "        plt.figure(figsize=(15,5))\n",
        "        sns.barplot(x='Branch Sector', y=col, data=sector_means, palette=['grey'])\n",
        "        plt.ylabel(col)\n",
        "        plt.title(f'Mean of {col} by Branch Sector')\n",
        "        plt.xticks(rotation=90)\n",
        "        plt.show()\n"
      ],
      "metadata": {
        "id": "5Q7dhABne7Jn"
      },
      "execution_count": null,
      "outputs": []
    },
    {
      "cell_type": "code",
      "source": [
        "import matplotlib.pyplot as plt\n",
        "import seaborn as sns\n",
        "df['log_avg'] = np.log1p(df['avg'])\n",
        "columns_to_plot = ['log_avg']\n",
        "\n",
        "for col in columns_to_plot:\n",
        "    if col in df.columns:\n",
        "        sector_means = df.groupby('Branch Sector')[col].mean().reset_index()\n",
        "\n",
        "        plt.figure(figsize=(15,5))\n",
        "        sns.barplot(x='Branch Sector', y='log_avg', data=sector_means, palette=['grey'])  # Setting the color to black\n",
        "        plt.ylabel('Log Average')\n",
        "        plt.title(f'Log of Average Net Sales by Branch Sector')\n",
        "        plt.xticks(rotation=90)\n",
        "        plt.show()"
      ],
      "metadata": {
        "id": "LuKl9r8ke7Jn"
      },
      "execution_count": null,
      "outputs": []
    },
    {
      "cell_type": "code",
      "source": [
        "import matplotlib.pyplot as plt\n",
        "import seaborn as sns\n",
        "\n",
        "bya = df[['Branch Sector','Final Second Round Year','avg']]\n",
        "\n",
        "\n",
        "# Creating the plot\n",
        "plt.figure(figsize=(15,7))\n",
        "sns.barplot(x='Branch Sector', y='avg', hue='Final Second Round Year', data=bya)\n",
        "plt.title('Average Value by Branch Sector and Final Second Round Year')\n",
        "plt.xticks(rotation=90)\n",
        "plt.ylabel('Average Value')\n",
        "plt.xlabel('Branch Sector')\n",
        "plt.legend(title='Final Second Round Year', bbox_to_anchor=(1.05, 1), loc='upper left')\n",
        "plt.tight_layout()\n",
        "plt.show()\n"
      ],
      "metadata": {
        "id": "S0awOMsJe7Jn"
      },
      "execution_count": null,
      "outputs": []
    },
    {
      "cell_type": "code",
      "source": [
        "import matplotlib.pyplot as plt\n",
        "import seaborn as sns\n",
        "import numpy as np\n",
        "\n",
        "\n",
        "bya['log_avg'] = np.log1p(bya['avg'])\n",
        "\n",
        "plt.figure(figsize=(15,7))\n",
        "sns.barplot(x='Branch Sector', y='log_avg', hue='Final Second Round Year', data=bya)\n",
        "plt.title('Logarithmic Average Net sales by Branch Sector and Final Second Round Year')\n",
        "plt.xticks(rotation=90)\n",
        "plt.ylabel('Log(Average Net Sales)')\n",
        "plt.xlabel('Branch Sector')\n",
        "plt.legend(title='Final Second Round Year', bbox_to_anchor=(1.05, 1), loc='upper left')\n",
        "plt.tight_layout()\n",
        "plt.show()"
      ],
      "metadata": {
        "id": "xal4Gvsne7Js"
      },
      "execution_count": null,
      "outputs": []
    },
    {
      "cell_type": "code",
      "source": [
        "\n",
        "\n",
        "pivot_table = bya.pivot_table(index='Branch Sector',\n",
        "                              columns='Final Second Round Year',\n",
        "                              values='avg',\n",
        "                              aggfunc='mean')\n",
        "\n",
        "pivot_table\n"
      ],
      "metadata": {
        "id": "kpipABqje7Js"
      },
      "execution_count": null,
      "outputs": []
    },
    {
      "cell_type": "markdown",
      "source": [
        "##more than one round"
      ],
      "metadata": {
        "id": "OHP9hm9_ixRH"
      }
    },
    {
      "cell_type": "code",
      "source": [
        "import pandas as pd\n",
        "\n",
        "categorical_column = 'More than one round'\n",
        "\n",
        "mode_value = df[categorical_column].mode()[0]\n",
        "\n",
        "\n",
        "value_counts = df[categorical_column].value_counts()\n",
        "\n",
        "\n",
        "total_counts = df[categorical_column].count()\n",
        "percentages = (value_counts / total_counts) * 100\n",
        "\n",
        "\n",
        "categorical_counts_df = pd.DataFrame({'Counts': value_counts, 'Percentages': percentages})\n",
        "\n",
        "\n",
        "categorical_counts_df = categorical_counts_df.transpose()\n",
        "\n",
        "\n",
        "categorical_counts_df.loc['Mode'] = mode_value\n",
        "\n",
        "\n",
        "categorical_counts_df"
      ],
      "metadata": {
        "id": "wLxtP20He7Js"
      },
      "execution_count": null,
      "outputs": []
    },
    {
      "cell_type": "code",
      "source": [
        "import pandas as pd\n",
        "\n",
        "categorical_column = 'Founded on Year'\n",
        "\n",
        "mode_value = df[categorical_column].mode()[0]\n",
        "\n",
        "\n",
        "value_counts = df[categorical_column].value_counts()\n",
        "\n",
        "\n",
        "total_counts = df[categorical_column].count()\n",
        "percentages = (value_counts / total_counts) * 100\n",
        "\n",
        "\n",
        "categorical_counts_df = pd.DataFrame({'Counts': value_counts, 'Percentages': percentages})\n",
        "\n",
        "\n",
        "categorical_counts_df = categorical_counts_df.transpose()\n",
        "\n",
        "\n",
        "categorical_counts_df.loc['Mode'] = mode_value\n",
        "\n",
        "\n",
        "categorical_counts_df"
      ],
      "metadata": {
        "id": "roxjm7w1e7Jt"
      },
      "execution_count": null,
      "outputs": []
    },
    {
      "cell_type": "markdown",
      "source": [
        "##final second round"
      ],
      "metadata": {
        "id": "95MmvhA0e7Jt"
      }
    },
    {
      "cell_type": "code",
      "source": [
        "import pandas as pd\n",
        "\n",
        "categorical_column = 'Final Second Round Year'\n",
        "\n",
        "mode_value = df[categorical_column].mode()[0]\n",
        "\n",
        "\n",
        "value_counts = df[categorical_column].value_counts()\n",
        "\n",
        "\n",
        "total_counts = df[categorical_column].count()\n",
        "percentages = (value_counts / total_counts) * 100\n",
        "\n",
        "\n",
        "categorical_counts_df = pd.DataFrame({'Counts': value_counts, 'Percentages': percentages})\n",
        "\n",
        "\n",
        "categorical_counts_df = categorical_counts_df.transpose()\n",
        "\n",
        "\n",
        "categorical_counts_df.loc['Mode'] = mode_value\n",
        "\n",
        "\n",
        "categorical_counts_df"
      ],
      "metadata": {
        "id": "QpvNY2aLe7Jt"
      },
      "execution_count": null,
      "outputs": []
    }
  ]
}